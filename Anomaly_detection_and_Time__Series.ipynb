{
  "nbformat": 4,
  "nbformat_minor": 0,
  "metadata": {
    "colab": {
      "provenance": []
    },
    "kernelspec": {
      "name": "python3",
      "display_name": "Python 3"
    },
    "language_info": {
      "name": "python"
    }
  },
  "cells": [
    {
      "cell_type": "markdown",
      "source": [
        "## Q1. What is Anomaly Detection? Explain its types (point, contextual, and collective anomalies) with examples.\n",
        "- Anomaly Detection is the process of identifying unusual patterns, behaviors, or data points that significantly differ from the majority of data. These anomalies often indicate fraud, system failures, or rare events.\n",
        "\n",
        "### Types of Anomalies:\n",
        "\n",
        "#### Point Anomalies:\n",
        "- A single data point is far from the rest.\n",
        "- Example: A transaction of $50,000 when most transactions are < $500.\n",
        "\n",
        "#### Contextual Anomalies (Conditional Anomalies):\n",
        "- Data points that are unusual in a specific context (e.g., time or location).\n",
        "- Example: A temperature of 30°C is normal in summer but abnormal in winter.\n",
        "\n",
        "#### Collective Anomalies:\n",
        "- A group of data points considered abnormal together, even if individually they look normal.\n",
        "- Example: Multiple failed login attempts in a short span → possible cyber-attack.\n",
        "\n",
        "## Q2. Compare Isolation Forest, DBSCAN, and Local Outlier Factor in terms of their approach and suitable use cases.\n",
        "- Algorithm\tApproach\tBest Use Cases\n",
        "- Isolation Forest\tRandomly partitions data to isolate anomalies (anomalies get isolated quickly).\tLarge high-dimensional datasets (fraud detection, server logs).\n",
        "- DBSCAN\tDensity-based clustering; points in low-density areas are anomalies.\t- Spatial/geographical data, clustering with noise.\n",
        "LOF\tCompares local density of a point to its neighbors.\tDetecting local anomalies in datasets with varying densities.\n",
        "\n",
        "## Q3. What are the key components of a Time Series? Explain each with one example.\n",
        "- Trend: Long-term upward or downward movement.\n",
        "- Example: Increasing sales of smartphones over years.\n",
        "- Seasonality: Repeating patterns at fixed intervals.\n",
        "- Example: Ice cream sales peaking every summer.\n",
        "- Cyclic Patterns: Fluctuations not of fixed frequency, often linked to economy.\n",
        "- Example: Business cycles (growth → recession → recovery).\n",
        "- Residual/Noise: Random variation unexplained by trend or seasonality.\n",
        "- Example: Sudden spike in electricity usage due to an event.\n",
        "\n",
        "## Q4. Define Stationary in time series. How can you test and transform a non-stationary series into a stationary one?\n",
        "- A stationary series has constant mean, variance, and autocorrelation over time.\n",
        "- Non-stationary data → hard to forecast.\n",
        "- How to Test?\n",
        "\n",
        "- Visual Inspection: Plot the series.\n",
        "- Rolling Statistics: Compare rolling mean/variance.\n",
        "- Augmented Dickey-Fuller (ADF) Test:\n",
        "- Null hypothesis: Data is non-stationary.\n",
        "- Transformations:\n",
        "- Differencing: Subtract current value from previous value.\n",
        "- Log Transformation: Stabilizes variance.\n",
        "- Decomposition: Remove trend and seasonality.\n",
        "\n",
        "## Q5. Differentiate between AR, MA, ARIMA, SARIMA, and SARIMAX models.\n",
        "\n",
        "| Model                   | Description                                         | Example Use Case                          |\n",
        "| ----------------------- | --------------------------------------------------- | ----------------------------------------- |\n",
        "| **AR (Autoregressive)** | Future value depends on past values.                | Stock prices.                             |\n",
        "| **MA (Moving Average)** | Future value depends on past forecast errors.       | Noise reduction in sales data.            |\n",
        "| **ARIMA**               | Combination of AR + MA + differencing.              | Non-stationary series forecasting.        |\n",
        "| **SARIMA**              | ARIMA + seasonality handling.                       | Airline passengers (monthly seasonality). |\n",
        "| **SARIMAX**             | SARIMA + external regressors (exogenous variables). | Energy demand with weather factors.       |\n"
      ],
      "metadata": {
        "id": "Vguaon69Davf"
      }
    },
    {
      "cell_type": "markdown",
      "source": [
        "## Q6. Load a time series dataset (AirPassengers), plot the original series, and decompose it."
      ],
      "metadata": {
        "id": "ae7LFPULEjX7"
      }
    },
    {
      "cell_type": "code",
      "source": [
        "## Solution 6\n",
        "\n",
        "import pandas as pd\n",
        "import matplotlib.pyplot as plt\n",
        "from statsmodels.tsa.seasonal import seasonal_decompose\n",
        "\n",
        "# Load AirPassengers dataset\n",
        "data = pd.read_csv(\"AirPassengers.csv\", parse_dates=['Month'], index_col='Month')\n",
        "\n",
        "# Plot original\n",
        "data.plot(title=\"AirPassengers Data\")\n",
        "plt.show()\n",
        "\n",
        "# Decomposition\n",
        "decomposition = seasonal_decompose(data['#Passengers'], model='multiplicative')\n",
        "decomposition.plot()\n",
        "plt.show()\n"
      ],
      "metadata": {
        "id": "FgLWmvhbEpYV"
      },
      "execution_count": null,
      "outputs": []
    },
    {
      "cell_type": "markdown",
      "source": [
        "## Q7. Apply Isolation Forest on NYC Taxi Fare dataset to detect anomalies."
      ],
      "metadata": {
        "id": "sNpo__PqExS5"
      }
    },
    {
      "cell_type": "code",
      "source": [
        "## Solution 7\n",
        "\n",
        "import pandas as pd\n",
        "import matplotlib.pyplot as plt\n",
        "from sklearn.ensemble import IsolationForest\n",
        "\n",
        "# Example synthetic taxi data\n",
        "data = pd.DataFrame({\n",
        "    \"fare_amount\": [5, 7, 8, 100, 6, 7, 8, 120, 9, 10],\n",
        "    \"trip_distance\": [1, 2, 2.5, 20, 1.5, 2, 3, 25, 2, 2.5]\n",
        "})\n",
        "\n",
        "# Apply Isolation Forest\n",
        "iso = IsolationForest(contamination=0.2, random_state=42)\n",
        "data['anomaly'] = iso.fit_predict(data)\n",
        "\n",
        "# Plot\n",
        "plt.scatter(data[\"fare_amount\"], data[\"trip_distance\"],\n",
        "            c=data['anomaly'], cmap=\"coolwarm\", s=80)\n",
        "plt.xlabel(\"Fare\")\n",
        "plt.ylabel(\"Distance\")\n",
        "plt.title(\"Isolation Forest Anomaly Detection\")\n",
        "plt.show()"
      ],
      "metadata": {
        "id": "7_A55wS_Ev_v"
      },
      "execution_count": null,
      "outputs": []
    },
    {
      "cell_type": "markdown",
      "source": [
        "##Q8. Train a SARIMA model on the AirPassengers dataset and forecast 12 months.\n"
      ],
      "metadata": {
        "id": "HbcGXypBE_rT"
      }
    },
    {
      "cell_type": "code",
      "source": [
        "# Solution 8\n",
        "\n",
        "\n",
        "from statsmodels.tsa.statespace.sarimax import SARIMAX\n",
        "\n",
        "# Train SARIMA\n",
        "model = SARIMAX(data['#Passengers'], order=(1,1,1), seasonal_order=(1,1,1,12))\n",
        "results = model.fit()\n",
        "\n",
        "# Forecast\n",
        "forecast = results.get_forecast(steps=12)\n",
        "forecast_ci = forecast.conf_int()\n",
        "\n",
        "# Plot\n",
        "plt.figure(figsize=(10,5))\n",
        "plt.plot(data, label='Observed')\n",
        "plt.plot(forecast.predicted_mean, label='Forecast')\n",
        "plt.fill_between(forecast_ci.index,\n",
        "                 forecast_ci.iloc[:,0], forecast_ci.iloc[:,1], color='pink', alpha=0.3)\n",
        "plt.legend()\n",
        "plt.show()"
      ],
      "metadata": {
        "id": "cWT0ebOLFF6T"
      },
      "execution_count": null,
      "outputs": []
    },
    {
      "cell_type": "markdown",
      "source": [
        "## Q9. Apply Local Outlier Factor (LOF) on a dataset and visualize anomalies."
      ],
      "metadata": {
        "id": "njTF2dG3FmVt"
      }
    },
    {
      "cell_type": "code",
      "source": [
        "## Solution 9\n",
        "\n",
        "from sklearn.neighbors import LocalOutlierFactor\n",
        "import numpy as np\n",
        "\n",
        "# Create synthetic dataset\n",
        "X = np.random.randn(200, 2)\n",
        "X[:10] = X[:10] + 6  # anomalies\n",
        "\n",
        "# LOF\n",
        "lof = LocalOutlierFactor(n_neighbors=20, contamination=0.05)\n",
        "y_pred = lof.fit_predict(X)\n",
        "\n",
        "# Plot\n",
        "plt.scatter(X[:,0], X[:,1], c=y_pred, cmap=\"coolwarm\")\n",
        "plt.title(\"Local Outlier Factor Anomaly Detection\")\n",
        "plt.show()"
      ],
      "metadata": {
        "id": "PHS6A2oLFQJz"
      },
      "execution_count": null,
      "outputs": []
    },
    {
      "cell_type": "markdown",
      "source": [
        "## Q10. Real-time power grid monitoring: Workflow"
      ],
      "metadata": {
        "id": "gaIOCTfGFf3c"
      }
    },
    {
      "cell_type": "code",
      "source": [
        "## Solution 10\n",
        "\n",
        "# Workflow:\n",
        "\n",
        "# Anomaly Detection:\n",
        "\n",
        "# Use Isolation Forest or LOF for real-time detection of abnormal spikes.\n",
        "\n",
        "# DBSCAN not suitable for streaming (batch-based).\n",
        "\n",
        "# Forecasting:\n",
        "\n",
        "# Use SARIMAX (captures seasonality + external features like weather).\n",
        "\n",
        "# Validation & Monitoring:\n",
        "\n",
        "# Rolling forecasts, backtesting.\n",
        "\n",
        "# Monitor forecast accuracy using MAE, RMSE, MAPE.\n",
        "\n",
        "# Business Impact:\n",
        "\n",
        "# Early detection prevents blackouts.\n",
        "\n",
        "# Forecasting helps optimize power distribution.\n",
        "\n",
        "# Improves energy purchase planning → cost savings.\n",
        "\n",
        "# Example SARIMAX for energy demand\n",
        "model = SARIMAX(data['#Passengers'], order=(1,1,1), seasonal_order=(1,1,1,12))\n",
        "results = model.fit()\n",
        "\n",
        "# Anomaly detection (Isolation Forest on consumption data)\n",
        "iso = IsolationForest(contamination=0.05)\n",
        "labels = iso.fit_predict(data[['#Passengers']])"
      ],
      "metadata": {
        "id": "gWk1Eb4mFYB8"
      },
      "execution_count": null,
      "outputs": []
    }
  ]
}